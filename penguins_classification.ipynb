{
 "cells": [
  {
   "cell_type": "markdown",
   "id": "40736554",
   "metadata": {
    "id": "40736554"
   },
   "source": [
    "# PIC 16A FINAL PROJECT\n",
    "\n",
    "## Group 15: Belle Ho, Ivy Tang, Katelyn Timmons\n",
    "\n",
    "### Professor Murray, Winter 2022"
   ]
  },
  {
   "cell_type": "markdown",
   "id": "182aabd2",
   "metadata": {
    "id": "182aabd2"
   },
   "source": [
    "# Group Contributions Statement\n",
    "\n",
    "* Katelyn: Import/Clean data and headings. Exploratory analysis box plot figure and descriptions for the tables. Gradient model and description. \n",
    "* Ivy: Exploratory analysis bar chart, confusion matrices, decision regions, Random Forest model and description\n",
    "* Belle: Exploratory data analysis scatter plots and description, heatmap for feature selection and description, Logistic Regression model\n"
   ]
  },
  {
   "cell_type": "markdown",
   "id": "86f9a7cb",
   "metadata": {
    "id": "86f9a7cb"
   },
   "source": [
    "# Exploratory Analysis \n",
    "We begin our modeling process by importing, splitting, and cleaning the data from the Palmer Penguins dataset. "
   ]
  },
  {
   "cell_type": "markdown",
   "id": "02b0e148",
   "metadata": {
    "id": "02b0e148"
   },
   "source": [
    "# Import Data\n",
    "First, we want to import the data and show the first few rows to get a sense of the data frame that we will be working with. "
   ]
  },
  {
   "cell_type": "code",
   "execution_count": null,
   "id": "bc8ef589",
   "metadata": {
    "id": "bc8ef589"
   },
   "outputs": [],
   "source": [
    "# modules we use to import the data\n",
    "import numpy as np \n",
    "import pandas as pd \n",
    "import urllib \n",
    "\n",
    "#read in penguins data set\n",
    "url = \"https://philchodrow.github.io/PIC16A/datasets/palmer_penguins.csv\"\n",
    "penguins = pd.read_csv(url)"
   ]
  },
  {
   "cell_type": "code",
   "execution_count": null,
   "id": "7e2ae5e6",
   "metadata": {
    "colab": {
     "base_uri": "https://localhost:8080/",
     "height": 565
    },
    "id": "7e2ae5e6",
    "outputId": "401c05ea-3850-4707-b6ad-168b258666aa"
   },
   "outputs": [
    {
     "data": {
      "text/html": [
       "<div>\n",
       "<style scoped>\n",
       "    .dataframe tbody tr th:only-of-type {\n",
       "        vertical-align: middle;\n",
       "    }\n",
       "\n",
       "    .dataframe tbody tr th {\n",
       "        vertical-align: top;\n",
       "    }\n",
       "\n",
       "    .dataframe thead th {\n",
       "        text-align: right;\n",
       "    }\n",
       "</style>\n",
       "<table border=\"1\" class=\"dataframe\">\n",
       "  <thead>\n",
       "    <tr style=\"text-align: right;\">\n",
       "      <th></th>\n",
       "      <th>studyName</th>\n",
       "      <th>Sample Number</th>\n",
       "      <th>Species</th>\n",
       "      <th>Region</th>\n",
       "      <th>Island</th>\n",
       "      <th>Stage</th>\n",
       "      <th>Individual ID</th>\n",
       "      <th>Clutch Completion</th>\n",
       "      <th>Date Egg</th>\n",
       "      <th>Culmen Length (mm)</th>\n",
       "      <th>Culmen Depth (mm)</th>\n",
       "      <th>Flipper Length (mm)</th>\n",
       "      <th>Body Mass (g)</th>\n",
       "      <th>Sex</th>\n",
       "      <th>Delta 15 N (o/oo)</th>\n",
       "      <th>Delta 13 C (o/oo)</th>\n",
       "      <th>Comments</th>\n",
       "    </tr>\n",
       "  </thead>\n",
       "  <tbody>\n",
       "    <tr>\n",
       "      <th>0</th>\n",
       "      <td>PAL0708</td>\n",
       "      <td>1</td>\n",
       "      <td>Adelie Penguin (Pygoscelis adeliae)</td>\n",
       "      <td>Anvers</td>\n",
       "      <td>Torgersen</td>\n",
       "      <td>Adult, 1 Egg Stage</td>\n",
       "      <td>N1A1</td>\n",
       "      <td>Yes</td>\n",
       "      <td>11/11/07</td>\n",
       "      <td>39.1</td>\n",
       "      <td>18.7</td>\n",
       "      <td>181.0</td>\n",
       "      <td>3750.0</td>\n",
       "      <td>MALE</td>\n",
       "      <td>NaN</td>\n",
       "      <td>NaN</td>\n",
       "      <td>Not enough blood for isotopes.</td>\n",
       "    </tr>\n",
       "    <tr>\n",
       "      <th>1</th>\n",
       "      <td>PAL0708</td>\n",
       "      <td>2</td>\n",
       "      <td>Adelie Penguin (Pygoscelis adeliae)</td>\n",
       "      <td>Anvers</td>\n",
       "      <td>Torgersen</td>\n",
       "      <td>Adult, 1 Egg Stage</td>\n",
       "      <td>N1A2</td>\n",
       "      <td>Yes</td>\n",
       "      <td>11/11/07</td>\n",
       "      <td>39.5</td>\n",
       "      <td>17.4</td>\n",
       "      <td>186.0</td>\n",
       "      <td>3800.0</td>\n",
       "      <td>FEMALE</td>\n",
       "      <td>8.94956</td>\n",
       "      <td>-24.69454</td>\n",
       "      <td>NaN</td>\n",
       "    </tr>\n",
       "    <tr>\n",
       "      <th>2</th>\n",
       "      <td>PAL0708</td>\n",
       "      <td>3</td>\n",
       "      <td>Adelie Penguin (Pygoscelis adeliae)</td>\n",
       "      <td>Anvers</td>\n",
       "      <td>Torgersen</td>\n",
       "      <td>Adult, 1 Egg Stage</td>\n",
       "      <td>N2A1</td>\n",
       "      <td>Yes</td>\n",
       "      <td>11/16/07</td>\n",
       "      <td>40.3</td>\n",
       "      <td>18.0</td>\n",
       "      <td>195.0</td>\n",
       "      <td>3250.0</td>\n",
       "      <td>FEMALE</td>\n",
       "      <td>8.36821</td>\n",
       "      <td>-25.33302</td>\n",
       "      <td>NaN</td>\n",
       "    </tr>\n",
       "    <tr>\n",
       "      <th>3</th>\n",
       "      <td>PAL0708</td>\n",
       "      <td>4</td>\n",
       "      <td>Adelie Penguin (Pygoscelis adeliae)</td>\n",
       "      <td>Anvers</td>\n",
       "      <td>Torgersen</td>\n",
       "      <td>Adult, 1 Egg Stage</td>\n",
       "      <td>N2A2</td>\n",
       "      <td>Yes</td>\n",
       "      <td>11/16/07</td>\n",
       "      <td>NaN</td>\n",
       "      <td>NaN</td>\n",
       "      <td>NaN</td>\n",
       "      <td>NaN</td>\n",
       "      <td>NaN</td>\n",
       "      <td>NaN</td>\n",
       "      <td>NaN</td>\n",
       "      <td>Adult not sampled.</td>\n",
       "    </tr>\n",
       "    <tr>\n",
       "      <th>4</th>\n",
       "      <td>PAL0708</td>\n",
       "      <td>5</td>\n",
       "      <td>Adelie Penguin (Pygoscelis adeliae)</td>\n",
       "      <td>Anvers</td>\n",
       "      <td>Torgersen</td>\n",
       "      <td>Adult, 1 Egg Stage</td>\n",
       "      <td>N3A1</td>\n",
       "      <td>Yes</td>\n",
       "      <td>11/16/07</td>\n",
       "      <td>36.7</td>\n",
       "      <td>19.3</td>\n",
       "      <td>193.0</td>\n",
       "      <td>3450.0</td>\n",
       "      <td>FEMALE</td>\n",
       "      <td>8.76651</td>\n",
       "      <td>-25.32426</td>\n",
       "      <td>NaN</td>\n",
       "    </tr>\n",
       "  </tbody>\n",
       "</table>\n",
       "</div>"
      ],
      "text/plain": [
       "  studyName  Sample Number                              Species  Region  \\\n",
       "0   PAL0708              1  Adelie Penguin (Pygoscelis adeliae)  Anvers   \n",
       "1   PAL0708              2  Adelie Penguin (Pygoscelis adeliae)  Anvers   \n",
       "2   PAL0708              3  Adelie Penguin (Pygoscelis adeliae)  Anvers   \n",
       "3   PAL0708              4  Adelie Penguin (Pygoscelis adeliae)  Anvers   \n",
       "4   PAL0708              5  Adelie Penguin (Pygoscelis adeliae)  Anvers   \n",
       "\n",
       "      Island               Stage Individual ID Clutch Completion  Date Egg  \\\n",
       "0  Torgersen  Adult, 1 Egg Stage          N1A1               Yes  11/11/07   \n",
       "1  Torgersen  Adult, 1 Egg Stage          N1A2               Yes  11/11/07   \n",
       "2  Torgersen  Adult, 1 Egg Stage          N2A1               Yes  11/16/07   \n",
       "3  Torgersen  Adult, 1 Egg Stage          N2A2               Yes  11/16/07   \n",
       "4  Torgersen  Adult, 1 Egg Stage          N3A1               Yes  11/16/07   \n",
       "\n",
       "   Culmen Length (mm)  Culmen Depth (mm)  Flipper Length (mm)  Body Mass (g)  \\\n",
       "0                39.1               18.7                181.0         3750.0   \n",
       "1                39.5               17.4                186.0         3800.0   \n",
       "2                40.3               18.0                195.0         3250.0   \n",
       "3                 NaN                NaN                  NaN            NaN   \n",
       "4                36.7               19.3                193.0         3450.0   \n",
       "\n",
       "      Sex  Delta 15 N (o/oo)  Delta 13 C (o/oo)  \\\n",
       "0    MALE                NaN                NaN   \n",
       "1  FEMALE            8.94956          -24.69454   \n",
       "2  FEMALE            8.36821          -25.33302   \n",
       "3     NaN                NaN                NaN   \n",
       "4  FEMALE            8.76651          -25.32426   \n",
       "\n",
       "                         Comments  \n",
       "0  Not enough blood for isotopes.  \n",
       "1                             NaN  \n",
       "2                             NaN  \n",
       "3              Adult not sampled.  \n",
       "4                             NaN  "
      ]
     },
     "execution_count": 3,
     "metadata": {},
     "output_type": "execute_result"
    }
   ],
   "source": [
    "# show the first 5 rows of data\n",
    "penguins.head()"
   ]
  },
  {
   "cell_type": "markdown",
   "id": "c689c6c5",
   "metadata": {
    "id": "c689c6c5"
   },
   "source": [
    "# Split the Data into Training and Test Sets"
   ]
  },
  {
   "cell_type": "code",
   "execution_count": null,
   "id": "5112ee15",
   "metadata": {
    "id": "5112ee15"
   },
   "outputs": [],
   "source": [
    "from sklearn.model_selection import train_test_split\n",
    "\n",
    "# use the random seed \"12345\" to ensure replicability\n",
    "np.random.seed(12345)\n",
    "\n",
    "train, test = train_test_split(penguins, test_size = 0.2)"
   ]
  },
  {
   "cell_type": "markdown",
   "id": "0352bd82",
   "metadata": {
    "id": "0352bd82"
   },
   "source": [
    "# Cleaning the Data\n",
    "Since we have already split the data into training and test sets, we can now clean it. "
   ]
  },
  {
   "cell_type": "code",
   "execution_count": null,
   "id": "9627ae3c",
   "metadata": {
    "id": "9627ae3c"
   },
   "outputs": [],
   "source": [
    "from sklearn import preprocessing \n",
    "\n",
    "def clean_penguins_data(df_input): \n",
    "    \"\"\"\n",
    "    This function cleans the penguin data frame. It does so by removing unwanted columns \n",
    "    and rows. It adds another column where categorical data is converted into numerical data. \n",
    "    \n",
    "    Parameters:\n",
    "        df_input: dataframe\n",
    "    \n",
    "    Outputs: \n",
    "        cleaned dataframe\n",
    "    \"\"\"\n",
    "    \n",
    "    df = df_input.copy()\n",
    "    # keep only descriptive columns\n",
    "    df = df[['Species', 'Region', 'Island', 'Culmen Length (mm)', 'Culmen Depth (mm)',\n",
    "             'Flipper Length (mm)', 'Body Mass (g)', 'Sex', 'Delta 15 N (o/oo)', \n",
    "             'Delta 13 C (o/oo)']]\n",
    "    \n",
    "    # drop rows with na values\n",
    "    df = df.dropna()\n",
    "    \n",
    "    # drop rows that have \".\" in the sex column of the Penguins dataframe\n",
    "    df = df.drop(df[df['Sex'] == '.'].index)\n",
    "    \n",
    "    # shorten the species name\n",
    "    df[\"Species\"] = df[\"Species\"].str.split().str.get(0)\n",
    "\n",
    "    #create new columns for categorical variables to be converted into numerical variables\n",
    "    le = preprocessing.LabelEncoder()\n",
    "    df['islandLabels'] = le.fit_transform(df['Island'])\n",
    "    df['speciesLabels'] = le.fit_transform(df['Species'])\n",
    "    df['Sex'] = le.fit_transform(df['Sex'])\n",
    "    \n",
    "    return df"
   ]
  },
  {
   "cell_type": "code",
   "execution_count": null,
   "id": "893ae407",
   "metadata": {
    "id": "893ae407"
   },
   "outputs": [],
   "source": [
    "# clean the pre-split test and train data\n",
    "trainCleanData = clean_penguins_data(train)\n",
    "testCleanData = clean_penguins_data(test)\n",
    "#Clean whole data set fro exploratory data analysis\n",
    "cleanData = clean_penguins_data(penguins)"
   ]
  },
  {
   "cell_type": "markdown",
   "id": "a9efb3ed",
   "metadata": {
    "id": "a9efb3ed"
   },
   "source": [
    "# Exploratory Analysis and Data Visualization"
   ]
  },
  {
   "cell_type": "markdown",
   "id": "d29GjXTwSoWw",
   "metadata": {
    "id": "d29GjXTwSoWw"
   },
   "source": [
    "In this section, we move on to exploratory analysis. Exploratory analysis helps us make preliminary decisions about what features to model, in the form of tables and graphs to visualize key data points. We do this to make sure we are focusing on meaningful and effective grouping variables to ultimately make significant predictions. We intend to choose **two quantitative predictors, and one qualitative predictor**. By using both quantitative and qualitative data, we are improving the model's chances of capturing variability. \n"
   ]
  },
  {
   "cell_type": "markdown",
   "id": "30f298f4",
   "metadata": {
    "id": "30f298f4"
   },
   "source": [
    "#### Table 1: Number of Species per Island"
   ]
  },
  {
   "cell_type": "code",
   "execution_count": null,
   "id": "FPiNByfDRMoq",
   "metadata": {
    "colab": {
     "base_uri": "https://localhost:8080/",
     "height": 299
    },
    "id": "FPiNByfDRMoq",
    "outputId": "81311676-5d06-4f6f-e3a6-32529643dfd4"
   },
   "outputs": [
    {
     "data": {
      "text/html": [
       "<div>\n",
       "<style scoped>\n",
       "    .dataframe tbody tr th:only-of-type {\n",
       "        vertical-align: middle;\n",
       "    }\n",
       "\n",
       "    .dataframe tbody tr th {\n",
       "        vertical-align: top;\n",
       "    }\n",
       "\n",
       "    .dataframe thead th {\n",
       "        text-align: right;\n",
       "    }\n",
       "</style>\n",
       "<table border=\"1\" class=\"dataframe\">\n",
       "  <thead>\n",
       "    <tr style=\"text-align: right;\">\n",
       "      <th></th>\n",
       "      <th></th>\n",
       "      <th>Region</th>\n",
       "      <th>Culmen Length (mm)</th>\n",
       "      <th>Culmen Depth (mm)</th>\n",
       "      <th>Flipper Length (mm)</th>\n",
       "      <th>Body Mass (g)</th>\n",
       "      <th>Sex</th>\n",
       "      <th>Delta 15 N (o/oo)</th>\n",
       "      <th>Delta 13 C (o/oo)</th>\n",
       "      <th>islandLabels</th>\n",
       "      <th>speciesLabels</th>\n",
       "    </tr>\n",
       "    <tr>\n",
       "      <th>Island</th>\n",
       "      <th>Species</th>\n",
       "      <th></th>\n",
       "      <th></th>\n",
       "      <th></th>\n",
       "      <th></th>\n",
       "      <th></th>\n",
       "      <th></th>\n",
       "      <th></th>\n",
       "      <th></th>\n",
       "      <th></th>\n",
       "      <th></th>\n",
       "    </tr>\n",
       "  </thead>\n",
       "  <tbody>\n",
       "    <tr>\n",
       "      <th rowspan=\"2\" valign=\"top\">Biscoe</th>\n",
       "      <th>Adelie</th>\n",
       "      <td>34</td>\n",
       "      <td>34</td>\n",
       "      <td>34</td>\n",
       "      <td>34</td>\n",
       "      <td>34</td>\n",
       "      <td>34</td>\n",
       "      <td>34</td>\n",
       "      <td>34</td>\n",
       "      <td>34</td>\n",
       "      <td>34</td>\n",
       "    </tr>\n",
       "    <tr>\n",
       "      <th>Gentoo</th>\n",
       "      <td>94</td>\n",
       "      <td>94</td>\n",
       "      <td>94</td>\n",
       "      <td>94</td>\n",
       "      <td>94</td>\n",
       "      <td>94</td>\n",
       "      <td>94</td>\n",
       "      <td>94</td>\n",
       "      <td>94</td>\n",
       "      <td>94</td>\n",
       "    </tr>\n",
       "    <tr>\n",
       "      <th rowspan=\"2\" valign=\"top\">Dream</th>\n",
       "      <th>Adelie</th>\n",
       "      <td>42</td>\n",
       "      <td>42</td>\n",
       "      <td>42</td>\n",
       "      <td>42</td>\n",
       "      <td>42</td>\n",
       "      <td>42</td>\n",
       "      <td>42</td>\n",
       "      <td>42</td>\n",
       "      <td>42</td>\n",
       "      <td>42</td>\n",
       "    </tr>\n",
       "    <tr>\n",
       "      <th>Chinstrap</th>\n",
       "      <td>53</td>\n",
       "      <td>53</td>\n",
       "      <td>53</td>\n",
       "      <td>53</td>\n",
       "      <td>53</td>\n",
       "      <td>53</td>\n",
       "      <td>53</td>\n",
       "      <td>53</td>\n",
       "      <td>53</td>\n",
       "      <td>53</td>\n",
       "    </tr>\n",
       "    <tr>\n",
       "      <th>Torgersen</th>\n",
       "      <th>Adelie</th>\n",
       "      <td>38</td>\n",
       "      <td>38</td>\n",
       "      <td>38</td>\n",
       "      <td>38</td>\n",
       "      <td>38</td>\n",
       "      <td>38</td>\n",
       "      <td>38</td>\n",
       "      <td>38</td>\n",
       "      <td>38</td>\n",
       "      <td>38</td>\n",
       "    </tr>\n",
       "  </tbody>\n",
       "</table>\n",
       "</div>"
      ],
      "text/plain": [
       "                     Region  Culmen Length (mm)  Culmen Depth (mm)  \\\n",
       "Island    Species                                                    \n",
       "Biscoe    Adelie         34                  34                 34   \n",
       "          Gentoo         94                  94                 94   \n",
       "Dream     Adelie         42                  42                 42   \n",
       "          Chinstrap      53                  53                 53   \n",
       "Torgersen Adelie         38                  38                 38   \n",
       "\n",
       "                     Flipper Length (mm)  Body Mass (g)  Sex  \\\n",
       "Island    Species                                              \n",
       "Biscoe    Adelie                      34             34   34   \n",
       "          Gentoo                      94             94   94   \n",
       "Dream     Adelie                      42             42   42   \n",
       "          Chinstrap                   53             53   53   \n",
       "Torgersen Adelie                      38             38   38   \n",
       "\n",
       "                     Delta 15 N (o/oo)  Delta 13 C (o/oo)  islandLabels  \\\n",
       "Island    Species                                                         \n",
       "Biscoe    Adelie                    34                 34            34   \n",
       "          Gentoo                    94                 94            94   \n",
       "Dream     Adelie                    42                 42            42   \n",
       "          Chinstrap                 53                 53            53   \n",
       "Torgersen Adelie                    38                 38            38   \n",
       "\n",
       "                     speciesLabels  \n",
       "Island    Species                   \n",
       "Biscoe    Adelie                34  \n",
       "          Gentoo                94  \n",
       "Dream     Adelie                42  \n",
       "          Chinstrap             53  \n",
       "Torgersen Adelie                38  "
      ]
     },
     "execution_count": 11,
     "metadata": {},
     "output_type": "execute_result"
    }
   ],
   "source": [
    "trainCleanData.groupby(['Island', 'Species']).count()"
   ]
  },
  {
   "cell_type": "markdown",
   "id": "c6e9036b",
   "metadata": {
    "id": "c6e9036b"
   },
   "source": [
    "Table 1 gives us an idea of how many penguins of each species live on each island. On the Biscoe island, only Adelie and Gentoo penguin species reside there. On the Dream island, there are only Adelie and Chinstrap penguins. On the Torgersen island, only Adelie penguins live there. Adelie penguins can be found on all three islands, where Gentoo penguins can only be found on the Biscoe island, and Chinstrap penguins can only be found on the Dream island. This gives us a preliminary idea that Island might be a good qualitative variable to choose, as it differentiates between the species well. "
   ]
  },
  {
   "cell_type": "markdown",
   "id": "4fddb42e",
   "metadata": {
    "id": "4fddb42e"
   },
   "source": [
    "#### Table 2: Summary Statistics (mean) by Island, Species & Sex"
   ]
  },
  {
   "cell_type": "code",
   "execution_count": null,
   "id": "Fj5BCaaz8AfL",
   "metadata": {
    "colab": {
     "base_uri": "https://localhost:8080/",
     "height": 456
    },
    "id": "Fj5BCaaz8AfL",
    "outputId": "5259a71c-7f0b-4d2f-f0aa-f637b5641aeb",
    "scrolled": true
   },
   "outputs": [
    {
     "data": {
      "text/html": [
       "<div>\n",
       "<style scoped>\n",
       "    .dataframe tbody tr th:only-of-type {\n",
       "        vertical-align: middle;\n",
       "    }\n",
       "\n",
       "    .dataframe tbody tr th {\n",
       "        vertical-align: top;\n",
       "    }\n",
       "\n",
       "    .dataframe thead th {\n",
       "        text-align: right;\n",
       "    }\n",
       "</style>\n",
       "<table border=\"1\" class=\"dataframe\">\n",
       "  <thead>\n",
       "    <tr style=\"text-align: right;\">\n",
       "      <th></th>\n",
       "      <th></th>\n",
       "      <th></th>\n",
       "      <th>Culmen Length (mm)</th>\n",
       "      <th>Culmen Depth (mm)</th>\n",
       "      <th>Flipper Length (mm)</th>\n",
       "      <th>Body Mass (g)</th>\n",
       "      <th>Delta 15 N (o/oo)</th>\n",
       "      <th>Delta 13 C (o/oo)</th>\n",
       "      <th>islandLabels</th>\n",
       "      <th>speciesLabels</th>\n",
       "    </tr>\n",
       "    <tr>\n",
       "      <th>Island</th>\n",
       "      <th>Species</th>\n",
       "      <th>Sex</th>\n",
       "      <th></th>\n",
       "      <th></th>\n",
       "      <th></th>\n",
       "      <th></th>\n",
       "      <th></th>\n",
       "      <th></th>\n",
       "      <th></th>\n",
       "      <th></th>\n",
       "    </tr>\n",
       "  </thead>\n",
       "  <tbody>\n",
       "    <tr>\n",
       "      <th rowspan=\"4\" valign=\"top\">Biscoe</th>\n",
       "      <th rowspan=\"2\" valign=\"top\">Adelie</th>\n",
       "      <th>0</th>\n",
       "      <td>36.986667</td>\n",
       "      <td>17.573333</td>\n",
       "      <td>186.666667</td>\n",
       "      <td>3321.666667</td>\n",
       "      <td>8.835342</td>\n",
       "      <td>-25.984470</td>\n",
       "      <td>0.0</td>\n",
       "      <td>0.0</td>\n",
       "    </tr>\n",
       "    <tr>\n",
       "      <th>1</th>\n",
       "      <td>40.673684</td>\n",
       "      <td>18.957895</td>\n",
       "      <td>189.736842</td>\n",
       "      <td>4022.368421</td>\n",
       "      <td>8.858986</td>\n",
       "      <td>-25.885664</td>\n",
       "      <td>0.0</td>\n",
       "      <td>0.0</td>\n",
       "    </tr>\n",
       "    <tr>\n",
       "      <th rowspan=\"2\" valign=\"top\">Gentoo</th>\n",
       "      <th>0</th>\n",
       "      <td>45.623810</td>\n",
       "      <td>14.292857</td>\n",
       "      <td>213.071429</td>\n",
       "      <td>4697.023810</td>\n",
       "      <td>8.224772</td>\n",
       "      <td>-26.263013</td>\n",
       "      <td>0.0</td>\n",
       "      <td>2.0</td>\n",
       "    </tr>\n",
       "    <tr>\n",
       "      <th>1</th>\n",
       "      <td>49.584615</td>\n",
       "      <td>15.736538</td>\n",
       "      <td>221.461538</td>\n",
       "      <td>5487.980769</td>\n",
       "      <td>8.276664</td>\n",
       "      <td>-26.183952</td>\n",
       "      <td>0.0</td>\n",
       "      <td>2.0</td>\n",
       "    </tr>\n",
       "    <tr>\n",
       "      <th rowspan=\"4\" valign=\"top\">Dream</th>\n",
       "      <th rowspan=\"2\" valign=\"top\">Adelie</th>\n",
       "      <th>0</th>\n",
       "      <td>36.945455</td>\n",
       "      <td>17.427273</td>\n",
       "      <td>188.045455</td>\n",
       "      <td>3336.363636</td>\n",
       "      <td>8.841030</td>\n",
       "      <td>-25.849533</td>\n",
       "      <td>1.0</td>\n",
       "      <td>0.0</td>\n",
       "    </tr>\n",
       "    <tr>\n",
       "      <th>1</th>\n",
       "      <td>40.200000</td>\n",
       "      <td>18.690000</td>\n",
       "      <td>193.000000</td>\n",
       "      <td>4070.000000</td>\n",
       "      <td>8.955424</td>\n",
       "      <td>-25.785054</td>\n",
       "      <td>1.0</td>\n",
       "      <td>0.0</td>\n",
       "    </tr>\n",
       "    <tr>\n",
       "      <th rowspan=\"2\" valign=\"top\">Chinstrap</th>\n",
       "      <th>0</th>\n",
       "      <td>47.104000</td>\n",
       "      <td>17.648000</td>\n",
       "      <td>192.160000</td>\n",
       "      <td>3519.000000</td>\n",
       "      <td>9.316752</td>\n",
       "      <td>-24.552901</td>\n",
       "      <td>1.0</td>\n",
       "      <td>1.0</td>\n",
       "    </tr>\n",
       "    <tr>\n",
       "      <th>1</th>\n",
       "      <td>50.925000</td>\n",
       "      <td>19.235714</td>\n",
       "      <td>199.750000</td>\n",
       "      <td>3935.714286</td>\n",
       "      <td>9.473145</td>\n",
       "      <td>-24.547353</td>\n",
       "      <td>1.0</td>\n",
       "      <td>1.0</td>\n",
       "    </tr>\n",
       "    <tr>\n",
       "      <th rowspan=\"2\" valign=\"top\">Torgersen</th>\n",
       "      <th rowspan=\"2\" valign=\"top\">Adelie</th>\n",
       "      <th>0</th>\n",
       "      <td>37.621053</td>\n",
       "      <td>17.521053</td>\n",
       "      <td>188.842105</td>\n",
       "      <td>3415.789474</td>\n",
       "      <td>8.665729</td>\n",
       "      <td>-25.755853</td>\n",
       "      <td>2.0</td>\n",
       "      <td>0.0</td>\n",
       "    </tr>\n",
       "    <tr>\n",
       "      <th>1</th>\n",
       "      <td>40.210526</td>\n",
       "      <td>19.247368</td>\n",
       "      <td>195.789474</td>\n",
       "      <td>4047.368421</td>\n",
       "      <td>8.948187</td>\n",
       "      <td>-25.858433</td>\n",
       "      <td>2.0</td>\n",
       "      <td>0.0</td>\n",
       "    </tr>\n",
       "  </tbody>\n",
       "</table>\n",
       "</div>"
      ],
      "text/plain": [
       "                         Culmen Length (mm)  Culmen Depth (mm)  \\\n",
       "Island    Species   Sex                                          \n",
       "Biscoe    Adelie    0             36.986667          17.573333   \n",
       "                    1             40.673684          18.957895   \n",
       "          Gentoo    0             45.623810          14.292857   \n",
       "                    1             49.584615          15.736538   \n",
       "Dream     Adelie    0             36.945455          17.427273   \n",
       "                    1             40.200000          18.690000   \n",
       "          Chinstrap 0             47.104000          17.648000   \n",
       "                    1             50.925000          19.235714   \n",
       "Torgersen Adelie    0             37.621053          17.521053   \n",
       "                    1             40.210526          19.247368   \n",
       "\n",
       "                         Flipper Length (mm)  Body Mass (g)  \\\n",
       "Island    Species   Sex                                       \n",
       "Biscoe    Adelie    0             186.666667    3321.666667   \n",
       "                    1             189.736842    4022.368421   \n",
       "          Gentoo    0             213.071429    4697.023810   \n",
       "                    1             221.461538    5487.980769   \n",
       "Dream     Adelie    0             188.045455    3336.363636   \n",
       "                    1             193.000000    4070.000000   \n",
       "          Chinstrap 0             192.160000    3519.000000   \n",
       "                    1             199.750000    3935.714286   \n",
       "Torgersen Adelie    0             188.842105    3415.789474   \n",
       "                    1             195.789474    4047.368421   \n",
       "\n",
       "                         Delta 15 N (o/oo)  Delta 13 C (o/oo)  islandLabels  \\\n",
       "Island    Species   Sex                                                       \n",
       "Biscoe    Adelie    0             8.835342         -25.984470           0.0   \n",
       "                    1             8.858986         -25.885664           0.0   \n",
       "          Gentoo    0             8.224772         -26.263013           0.0   \n",
       "                    1             8.276664         -26.183952           0.0   \n",
       "Dream     Adelie    0             8.841030         -25.849533           1.0   \n",
       "                    1             8.955424         -25.785054           1.0   \n",
       "          Chinstrap 0             9.316752         -24.552901           1.0   \n",
       "                    1             9.473145         -24.547353           1.0   \n",
       "Torgersen Adelie    0             8.665729         -25.755853           2.0   \n",
       "                    1             8.948187         -25.858433           2.0   \n",
       "\n",
       "                         speciesLabels  \n",
       "Island    Species   Sex                 \n",
       "Biscoe    Adelie    0              0.0  \n",
       "                    1              0.0  \n",
       "          Gentoo    0              2.0  \n",
       "                    1              2.0  \n",
       "Dream     Adelie    0              0.0  \n",
       "                    1              0.0  \n",
       "          Chinstrap 0              1.0  \n",
       "                    1              1.0  \n",
       "Torgersen Adelie    0              0.0  \n",
       "                    1              0.0  "
      ]
     },
     "execution_count": 12,
     "metadata": {},
     "output_type": "execute_result"
    }
   ],
   "source": [
    "trainCleanData.groupby(['Island', 'Species', 'Sex']).mean()"
   ]
  },
  {
   "cell_type": "markdown",
   "id": "a0cc5bb1",
   "metadata": {
    "id": "a0cc5bb1"
   },
   "source": [
    "Table 2 shows the mean of each quantitative feature of the penguins data set, and displays it divided by island, species, and sex. Sex in this table is displayed as 0 = Female and 1 = Male. We can see from the table that Chinstrap penguins on the Dream island and Gentoo penguins on the Biscoe island have higher mean culmen lengths than their island co-habitants. Gentoo penguins seem to have much higher body mass and flipper length than both the Chinstrap and Adelie species. Culmen length, culmen depth, body mass, and flipper length all stand out in this table. It might be worth paying attention to these quantitative features in our feature selection process."
   ]
  },
  {
   "cell_type": "markdown",
   "id": "f0412a42",
   "metadata": {
    "id": "f0412a42"
   },
   "source": [
    "#### Figure 1: Culmen Length (mm) versus Culmen Depth (mm) by Species"
   ]
  },
  {
   "cell_type": "code",
   "execution_count": null,
   "id": "PzRd_CSCRQwe",
   "metadata": {
    "colab": {
     "base_uri": "https://localhost:8080/",
     "height": 279
    },
    "id": "PzRd_CSCRQwe",
    "outputId": "15ad88ee-6eb5-403b-b553-b77168d17cdf"
   },
   "outputs": [
    {
     "data": {
      "image/png": "[encoded data removed]",
      "text/plain": [
       "<Figure size 432x288 with 1 Axes>"
      ]
     },
     "metadata": {
      "needs_background": "light"
     },
     "output_type": "display_data"
    }
   ],
   "source": [
    "#This is a scatter plot that plots culmen depths against culmen lengths by species\n",
    "import numpy as np \n",
    "from matplotlib import pyplot as plt \n",
    "\n",
    "fig, ax = plt.subplots(1) \n",
    "ax.set(xlabel = \"Culmen Length (mm)\", \n",
    "       ylabel = \"Culmen Depth (mm)\") \n",
    "ax.scatter(trainCleanData['Culmen Length (mm)'], trainCleanData['Culmen Depth (mm)']) \n",
    "species = set(trainCleanData['Species']) \n",
    " \n",
    "for s in species: \n",
    "        label = s.split()[0] \n",
    "        training_subspecies = trainCleanData[trainCleanData['Species'] == s] \n",
    "        ax.scatter(training_subspecies['Culmen Length (mm)'], training_subspecies['Culmen Depth (mm)'],\n",
    "                   label = label, alpha = 0.7)\n",
    "\n",
    "ax.legend() \n",
    "plt.show()"
   ]
  },
  {
   "cell_type": "markdown",
   "id": "MyE4NRqr7bos",
   "metadata": {
    "id": "MyE4NRqr7bos"
   },
   "source": [
    "In Figure 1, the yellow , green, and red data points represent Adelie, Chinstrap, and Gentoo penguins, respectively. As illustrated by Figure 1, Adelie penguins appear to have a significantly shorter mean culmen length than Chinstrap and Gentoo penguins. Gentoo penguins appear to have a significantly shallower culmen depths than the other two species. Chistrap penguins are clustered around the top right region of the plot, suggesting that they have both deep culmen depths and long culmen lengths. Figure 1 provides us with the intuition that culmen depths and culmen lengths are  suitable features to use in later machine learning models as we can visualise how the three different penguin species have disinctly different culmen lengths and depths. "
   ]
  },
  {
   "cell_type": "markdown",
   "id": "7fb2a017",
   "metadata": {
    "id": "7fb2a017"
   },
   "source": [
    "#### Figure 3: Number of Species by Island"
   ]
  },
  {
   "cell_type": "code",
   "execution_count": null,
   "id": "26f90f3a",
   "metadata": {
    "colab": {
     "base_uri": "https://localhost:8080/",
     "height": 295
    },
    "id": "26f90f3a",
    "outputId": "f3993166-2f73-4608-e1eb-91e12438822d"
   },
   "outputs": [
    {
     "data": {
      "image/png": "[encoded data removed]",
      "text/plain": [
       "<Figure size 432x288 with 1 Axes>"
      ]
     },
     "metadata": {
      "needs_background": "light"
     },
     "output_type": "display_data"
    }
   ],
   "source": [
    "#barchart -> species by island\n",
    "import numpy as np \n",
    "from matplotlib import pyplot as plt \n",
    "fig, ax = plt.subplots(1)\n",
    "ax.set(xlabel = \"Island\",\n",
    "       ylabel = \"Count\",\n",
    "       title = \"Species on each Island\")\n",
    "\n",
    "N = 3\n",
    "ind = np.arange(N) \n",
    "width = 0.25\n",
    "\n",
    "islands = list(set(trainCleanData['Island']))\n",
    "species = list(set(trainCleanData['Species']))\n",
    "\n",
    "pop = trainCleanData.groupby(\"Island\")[\"Species\"].value_counts()\n",
    "pop_dict = dict(pop)\n",
    "\n",
    "for i in islands:\n",
    "  for s in species:\n",
    "    pop_dict.setdefault((i, s), 0) #if no species on the island, set count to 0\n",
    "\n",
    "pop_list = sorted(pop_dict.items())\n",
    "\n",
    "#number of species on each island\n",
    "num_Adelie = [t[1] for t in pop_list if t[0][1] == \"Adelie\"]\n",
    "bar1 = plt.bar(ind, num_Adelie, width, color = 'r')\n",
    "  \n",
    "num_Chinstrap = [t[1] for t in pop_list if t[0][1] == \"Chinstrap\"]\n",
    "bar2 = plt.bar(ind+width, num_Chinstrap, width, color = 'g')\n",
    "  \n",
    "num_Gentoo = [t[1] for t in pop_list if t[0][1] == \"Gentoo\"]\n",
    "bar3 = plt.bar(ind+width*2, num_Gentoo, width, color = 'b')\n",
    "  \n",
    "plt.xticks(ind+width, islands)\n",
    "plt.legend((bar1, bar2, bar3), species)\n",
    "plt.show()\n",
    "\n",
    "#plot for each island, species vs. a qualitative variable"
   ]
  },
  {
   "cell_type": "markdown",
   "id": "883fb343",
   "metadata": {
    "id": "883fb343"
   },
   "source": [
    "Figure 3 shows the number of species on each Island. From this figure, we can see that only Adelie penguins reside on the Biscoe island, but are found on both Dream and Torgersen islands as well. Chinstrap penguins can only be found on the Dream island, and Gentoo penguins can only be found on the Torgersen island. "
   ]
  },
  {
   "cell_type": "markdown",
   "id": "4f70f49b",
   "metadata": {
    "id": "4f70f49b"
   },
   "source": [
    "#### Figure 4: Flipper Length (mm) and Body Mass (g) by Species "
   ]
  },
  {
   "cell_type": "code",
   "execution_count": null,
   "id": "NOUhoKYLHXB8",
   "metadata": {
    "colab": {
     "base_uri": "https://localhost:8080/",
     "height": 334
    },
    "id": "NOUhoKYLHXB8",
    "outputId": "a215fda6-d94e-479c-b418-6668365f0aa3"
   },
   "outputs": [
    {
     "data": {
      "image/png": "[encoded data removed]",
      "text/plain": [
       "<Figure size 1080x360 with 2 Axes>"
      ]
     },
     "metadata": {
      "needs_background": "light"
     },
     "output_type": "display_data"
    }
   ],
   "source": [
    "import seaborn as sns\n",
    "# this is a box plot that compares flipper length in mm by species\n",
    "\n",
    "fig, ax = plt.subplots(1,2,figsize = (15,5))\n",
    "\n",
    "#plot box plot and set parameters\n",
    "sns.boxplot(x=\"Flipper Length (mm)\", y=\"Species\", ax=ax[0], data = trainCleanData)\n",
    "sns.boxplot(x=\"Body Mass (g)\", y = \"Species\", ax=ax[1], data = trainCleanData)\n",
    "plt.show()"
   ]
  },
  {
   "cell_type": "markdown",
   "id": "bec351d8",
   "metadata": {
    "id": "bec351d8"
   },
   "source": [
    "Figure 4 shows the average flipper length and body mass per species. From the figure, we can tell that Gentoo penguins typically have a significantly longer flipper length and body mass than Adelie or Chinstrap penguins. "
   ]
  },
  {
   "cell_type": "markdown",
   "id": "9ff25b23",
   "metadata": {
    "id": "9ff25b23"
   },
   "source": [
    "# Feature Selection\n",
    "Our approach to feature selection utlises out Exploratory Data Analysis along with exploring the correlation between the different characteristics and the different species with a heatmap. "
   ]
  },
  {
   "cell_type": "markdown",
   "id": "D88jc3MAo4FD",
   "metadata": {
    "id": "D88jc3MAo4FD"
   },
   "source": [
    "#### Figure 5 correlation heat map to show the correlation between variables and species"
   ]
  },
  {
   "cell_type": "code",
   "execution_count": null,
   "id": "29b85037",
   "metadata": {
    "colab": {
     "base_uri": "https://localhost:8080/",
     "height": 762
    },
    "id": "29b85037",
    "outputId": "901fea36-82ec-4e62-8f72-4ede022a4078"
   },
   "outputs": [
    {
     "data": {
      "image/png": "[encoded data removed]",
      "text/plain": [
       "<Figure size 792x648 with 2 Axes>"
      ]
     },
     "metadata": {
      "needs_background": "light"
     },
     "output_type": "display_data"
    },
    {
     "name": "stdout",
     "output_type": "stream",
     "text": [
      "------ The best features ------\n",
      "speciesLabels          1.000000\n",
      "Culmen Length (mm)     0.728453\n",
      "Culmen Depth (mm)      0.739252\n",
      "Flipper Length (mm)    0.847541\n",
      "Body Mass (g)          0.750677\n",
      "Name: speciesLabels, dtype: float64\n"
     ]
    }
   ],
   "source": [
    "# correlation heat map\n",
    "cleanData2 = cleanData[['speciesLabels','Island', 'Culmen Length (mm)', 'Culmen Depth (mm)', \n",
    "                     'Flipper Length (mm)', 'Body Mass (g)', 'Sex']]\n",
    "import seaborn as sns\n",
    "plt.figure(figsize=(11,9))\n",
    "cor = cleanData2.corr()\n",
    "sns.heatmap(cor, annot=True, cmap=\"Blues\")\n",
    "plt.show()\n",
    "\n",
    "#Showing best features - features with correlation higher than 0.5\n",
    "cor_target = abs(cor[\"speciesLabels\"])\n",
    "\n",
    "#Selecting highly correlated features\n",
    "relevant_features = cor_target[abs(cor_target>0.5)]\n",
    "\n",
    "print(\"------ The best features ------\")\n",
    "print(relevant_features)"
   ]
  },
  {
   "cell_type": "markdown",
   "id": "18737b12",
   "metadata": {
    "id": "18737b12"
   },
   "source": [
    "Figure 5 is a heatmap that allows us to visualise the correlation of the characteristics between one and another. The axis variables (characteristics of penguins in this case) are divided into ranges like a bar chart or histogram, and each cell’s color indicates the correlation of the x variable and the y variable in the corresponding cell range. The strength of correlation is indicated by how dark the color is and the correlation coefficient. The Y and X axis are the list of features. It is useful to look at which featrues are the most correlated to species. Features that are the most correlated to species would be selected to use in the machine learning models in the later part of this project. However, it is clear that not all features are useful as some have little to no correlation with Species. Using relevant features, we are able to highlight features that have a correlation coefficient that is higher than 0.5."
   ]
  },
  {
   "cell_type": "markdown",
   "id": "638fbc19",
   "metadata": {
    "id": "638fbc19"
   },
   "source": [
    "# Models\n",
    "  Following feature selection, we will now train three different models: Random Forest, Logistic Regression, and Gradient Boosting. \n",
    "\n",
    "  In order to avoid overfitting our models, we use cross validation. Overfitting refers to when a machine learning algorithm performs well for training data but poorly on test data. Cross-validation can give a better estimate as to how accurately a model will perform, as it uses different samples of data as opposed to just a single subset of data. We can also use cross-validation to determine the optimal depth, which we can later on use to evaluate a model against unseen test data. \n",
    "\n",
    "  Each model is accompanied by a confusion matrix, which visualizes a model's predictions of species against the true species in order to compare their performance against other models. The diagonal values indicate the number of times the model made a correct prediction, and the other values represent instances when the predicted species was wrong.\n",
    "\n",
    "  We also made decision regions to evaluate each classifier and visualize how the classifier makes decisions. Decision regions refer to the space that the classifier gives for each label, and this can vary across different models despite having the same input data. "
   ]
  },
  {
   "cell_type": "code",
   "execution_count": null,
   "id": "lbistAarxLPw",
   "metadata": {
    "id": "lbistAarxLPw"
   },
   "outputs": [],
   "source": [
    "import matplotlib.patches as mpatches\n",
    "def plot_regions(c, X, y):\n",
    "    '''\n",
    "    plots decision regions for each island\n",
    "    \n",
    "    Parameter\n",
    "      c: model classifier\n",
    "      X: predictor variables\n",
    "      y: target variable\n",
    "      \n",
    "    Outputs decision region plots\n",
    "    '''\n",
    "    \n",
    "    Island_mapping = {'Biscoe': 0, 'Dream': 1, 'Torgersen': 2}\n",
    "    # create the plot\n",
    "    fig, ax = plt.subplots(1,3, figsize = (15, 5))\n",
    "    names = list(Island_mapping.keys())\n",
    "    # plot each island\n",
    "    for i in Island_mapping.values():\n",
    "        index = X['islandLabels']==i\n",
    "        x0 = X['Culmen Length (mm)'][index]\n",
    "        x1 = X['Culmen Depth (mm)'][index]\n",
    "        y_temp = y[index]\n",
    "        \n",
    "        # y = y[X[\"islandLabels\"] == i]\n",
    "        # x1 = X[X.columns[2]][c]\n",
    "    \n",
    "        # create a grid\n",
    "        grid_x = np.linspace(x0.min(),x0.max(),501)\n",
    "        grid_y = np.linspace(x1.min(),x1.max(),501)\n",
    "        xx, yy = np.meshgrid(grid_x, grid_y)\n",
    "    \n",
    "        # extract model predictions, using the \n",
    "        # np.c_ attribute to join together the \n",
    "        # two parts of the grid. \n",
    "        # array.ravel() converts an multidimensional\n",
    "        # array into a 1d array, and we use array.reshape()\n",
    "        # to turn the resulting predictions p \n",
    "        # back into 2d\n",
    "    \n",
    "        XX = xx.ravel()\n",
    "        YY = yy.ravel()\n",
    "        ZZ = i*np.ones(XX.shape)\n",
    "        XY = np.c_[ZZ, XX, YY]\n",
    "    \n",
    "        p = c.predict(XY)\n",
    "        p = p.reshape(xx.shape)\n",
    "\n",
    "    \n",
    "        # use contour plot to visualize the predictions\n",
    "        ax[i].contourf(xx, yy, p, cmap = \"jet\", alpha = 0.2,vmin = 0, vmax = 2)\n",
    "        \n",
    "        # plot the data\n",
    "        ax[i].scatter(x0, x1, c=y_temp, cmap = \"jet\", vmin = 0, vmax = 2)\n",
    "        #scatter = ax.scatter(x0, x1, c=y, cmap = \"jet\", vmin = 0, vmax = 2)\n",
    "        #, c = y\n",
    "        \n",
    "        ax[i].set(xlabel = \"Culmen Length (mm)\",\n",
    "               ylabel = \"Culmen Depth (mm)\",\n",
    "               title = names[i])\n",
    "        \n",
    "        #add legend with colors from the scatterplot\n",
    "        red = mpatches.Patch(color='red', label='Gentoo')\n",
    "        blue = mpatches.Patch(color='blue', label='Adelie')\n",
    "        green = mpatches.Patch(color='lime', label='Chinstrap')\n",
    "        \n",
    "        ax[i].legend(loc = 4, handles=[blue,green, red], title=\"Species\")"
   ]
  },
  {
   "cell_type": "markdown",
   "id": "c90a5137",
   "metadata": {
    "id": "c90a5137"
   },
   "source": [
    "## Random Forest Model [Model 1]\n",
    "The Random Forest Model takes different random samples of the data, makes decision trees out of each of these samples, and takes a majority vote of the decisions out of all the decision trees. "
   ]
  },
  {
   "cell_type": "code",
   "execution_count": null,
   "id": "715WWlpY4GcE",
   "metadata": {
    "id": "715WWlpY4GcE"
   },
   "outputs": [],
   "source": [
    "#training data for Random Forest\n",
    "X_train_RF = trainCleanData[['islandLabels', 'Culmen Length (mm)', 'Culmen Depth (mm)']]\n",
    "y_train_RF = trainCleanData['speciesLabels']\n",
    "\n",
    "#testing data for Random Forest\n",
    "X_test_RF = testCleanData[['islandLabels', 'Culmen Length (mm)', 'Culmen Depth (mm)']]\n",
    "y_test_RF = testCleanData['speciesLabels']"
   ]
  },
  {
   "cell_type": "code",
   "execution_count": null,
   "id": "iNLvE0AGUrsY",
   "metadata": {
    "colab": {
     "base_uri": "https://localhost:8080/",
     "height": 295
    },
    "id": "iNLvE0AGUrsY",
    "outputId": "2de45f25-0819-4e30-92f0-fd993119aa37"
   },
   "outputs": [
    {
     "data": {
      "image/png": "[encoded data removed]",
      "text/plain": [
       "<Figure size 432x288 with 1 Axes>"
      ]
     },
     "metadata": {
      "needs_background": "light"
     },
     "output_type": "display_data"
    }
   ],
   "source": [
    "#RANDOM FOREST: https://www.datacamp.com/tutorial/random-forests-classifier-python\n",
    "from sklearn.ensemble import RandomForestClassifier\n",
    "\n",
    "#cross validation\n",
    "from sklearn.model_selection import cross_val_score\n",
    "fig, ax = plt.subplots(1)\n",
    "\n",
    "best_score = 0\n",
    "\n",
    "#find best depth and best cross validation score\n",
    "for d in range(1,30):  \n",
    "    R = RandomForestClassifier(max_depth = d)\n",
    "    cv_score = cross_val_score(R, X_train_RF, y_train_RF, cv=10).mean()\n",
    "    ax.scatter(d, cv_score, color = \"black\") \n",
    "    if cv_score > best_score:   \n",
    "        best_depth = d\n",
    "        best_score = cv_score\n",
    "\n",
    "l = ax.set(title = \"Best Depth : \" + str(best_depth),\n",
    "       xlabel = \"Depth\", \n",
    "       ylabel = \"CV Score\")"
   ]
  },
  {
   "cell_type": "markdown",
   "id": "6AFvoKESXVFW",
   "metadata": {
    "id": "6AFvoKESXVFW"
   },
   "source": [
    "After iterating through different depths, it appears that the best depth for the Random Forest model is 18. We will use this as an input to our classifier, which will be used to test how accurate our model is."
   ]
  },
  {
   "cell_type": "code",
   "execution_count": null,
   "id": "uSNkZz2Obpft",
   "metadata": {
    "colab": {
     "base_uri": "https://localhost:8080/"
    },
    "id": "uSNkZz2Obpft",
    "outputId": "f557c995-5d54-439e-cebf-f4067aeb6882"
   },
   "outputs": [
    {
     "name": "stdout",
     "output_type": "stream",
     "text": [
      "Accuracy on training data:  1.0\n"
     ]
    }
   ],
   "source": [
    "#Import scikit-learn metrics module for accuracy calculation\n",
    "from sklearn import metrics\n",
    "from sklearn.metrics import accuracy_score\n",
    "\n",
    "clf = RandomForestClassifier(max_depth = best_depth, n_estimators=100)\n",
    "\n",
    "#train the model using the training data\n",
    "clf.fit(X_train_RF, y_train_RF)\n",
    "\n",
    "#make predictions for the test data\n",
    "y_pred_RF = clf.predict(X_test_RF)\n",
    "\n",
    "# Model Accuracy, how often is the classifier correct on the training data?\n",
    "print(\"Accuracy on training data: \", np.round(clf.score(X_train_RF, y_train_RF),3))"
   ]
  },
  {
   "cell_type": "markdown",
   "id": "ikXZU6Hm2pYq",
   "metadata": {
    "id": "ikXZU6Hm2pYq"
   },
   "source": [
    "#### Cross Validation"
   ]
  },
  {
   "cell_type": "code",
   "execution_count": null,
   "id": "LpuA30EP2aC7",
   "metadata": {
    "colab": {
     "base_uri": "https://localhost:8080/"
    },
    "id": "LpuA30EP2aC7",
    "outputId": "01939208-3fdc-441c-eaf2-050ff8e2ca8e"
   },
   "outputs": [
    {
     "name": "stdout",
     "output_type": "stream",
     "text": [
      "Mean cross validation:  0.981\n"
     ]
    }
   ],
   "source": [
    "mean_cv_RF = np.round(cross_val_score(clf, X_train_RF, y_train_RF, cv = 5).mean(), 3)\n",
    "print(\"Mean cross validation: \", mean_cv_RF)"
   ]
  },
  {
   "cell_type": "code",
   "execution_count": null,
   "id": "Ay69Zmb026iz",
   "metadata": {
    "colab": {
     "base_uri": "https://localhost:8080/"
    },
    "id": "Ay69Zmb026iz",
    "outputId": "93f9c145-d46c-48b3-cc3b-8bb36944ef00"
   },
   "outputs": [
    {
     "name": "stdout",
     "output_type": "stream",
     "text": [
      "Accuracy on test data:  0.952\n"
     ]
    }
   ],
   "source": [
    "print(\"Accuracy on test data: \", np.round(clf.score(X_test_RF, y_test_RF), 3))"
   ]
  },
  {
   "cell_type": "markdown",
   "id": "75fa02c0",
   "metadata": {
    "id": "75fa02c0"
   },
   "source": [
    "The model appears to be performing pretty well, with a mean cross validation score of 0.988 on training data and an accuracy score of 0.952 on test data."
   ]
  },
  {
   "cell_type": "markdown",
   "id": "d568be31",
   "metadata": {
    "id": "d568be31"
   },
   "source": [
    "#### Confusion Matrix"
   ]
  },
  {
   "cell_type": "code",
   "execution_count": null,
   "id": "14e38a3a",
   "metadata": {
    "colab": {
     "base_uri": "https://localhost:8080/"
    },
    "id": "14e38a3a",
    "outputId": "5bee5569-6aa2-46ee-bcab-1fe97ce49b97"
   },
   "outputs": [
    {
     "data": {
      "text/plain": [
       "array([[23,  2,  0],\n",
       "       [ 1, 13,  0],\n",
       "       [ 0,  0, 24]])"
      ]
     },
     "execution_count": 23,
     "metadata": {},
     "output_type": "execute_result"
    }
   ],
   "source": [
    "from sklearn.metrics import confusion_matrix\n",
    "from sklearn.metrics import plot_confusion_matrix\n",
    "from sklearn.metrics import ConfusionMatrixDisplay\n",
    "\n",
    "confusion_matrix(y_test_RF, y_pred_RF)"
   ]
  },
  {
   "cell_type": "code",
   "execution_count": null,
   "id": "WzoQXo6NPl7s",
   "metadata": {
    "colab": {
     "base_uri": "https://localhost:8080/",
     "height": 279
    },
    "id": "WzoQXo6NPl7s",
    "outputId": "7a66fa7b-3aa7-442d-e2f2-894494287e31"
   },
   "outputs": [
    {
     "data": {
      "image/png": "[encoded data removed]",
      "text/plain": [
       "<Figure size 432x288 with 2 Axes>"
      ]
     },
     "metadata": {
      "needs_background": "light"
     },
     "output_type": "display_data"
    }
   ],
   "source": [
    "ConfusionMatrixDisplay.from_predictions(y_test_RF, y_pred_RF)\n",
    "plt.show()"
   ]
  },
  {
   "cell_type": "markdown",
   "id": "A5B5srF9ZtQN",
   "metadata": {
    "id": "A5B5srF9ZtQN"
   },
   "source": [
    "The numbers on the diagonal boxes indicate that the model makes pretty accurate predictions. However, the other cells show that the model inaccurately predicts Chinstrap penguin when it's actually an Adelie penguin twice, and also inaccurately predicts an Adelie penguin to be a Chinstrap penguin once."
   ]
  },
  {
   "cell_type": "markdown",
   "id": "5be57bcf",
   "metadata": {
    "id": "5be57bcf"
   },
   "source": [
    "#### Decision Regions"
   ]
  },
  {
   "cell_type": "code",
   "execution_count": null,
   "id": "V6VwmXIBy_L0",
   "metadata": {
    "colab": {
     "base_uri": "https://localhost:8080/",
     "height": 353
    },
    "id": "V6VwmXIBy_L0",
    "outputId": "8415fd20-a038-4d19-e216-1bceef106436"
   },
   "outputs": [
    {
     "data": {
      "image/png": "[encoded data removed]",
      "text/plain": [
       "<Figure size 1080x360 with 3 Axes>"
      ]
     },
     "metadata": {
      "needs_background": "light"
     },
     "output_type": "display_data"
    }
   ],
   "source": [
    "from sklearn.ensemble import RandomForestClassifier\n",
    "plot_regions(clf, X_test_RF, y_test_RF)"
   ]
  },
  {
   "cell_type": "markdown",
   "id": "omgfnQt2Re3T",
   "metadata": {
    "id": "omgfnQt2Re3T"
   },
   "source": [
    "The Random Forest Model utilizes the technique \"bagging,\" which reduces variance by constructing different decision trees in order to get the optimal decision. Since this model uses multiple decision trees, overfitting isn't as likely. \n",
    "\n",
    "While the Random Forest Model slightly overfitted by performing perfectly on the training data, and scoring slightly worse on the test data (0.952), it still performed well overall. The errors this model made may have been due to species (that are on the same island) having closer culmen length and culmen depth. \n"
   ]
  },
  {
   "cell_type": "markdown",
   "id": "b2f5ccd2",
   "metadata": {
    "id": "b2f5ccd2"
   },
   "source": [
    "## Logistical Regression Model [Model 2]\n",
    "The type of logistical regression model we are using is multinomial(MLR), which allows us to predict three or more different class with no natural ordering, like the three species of penguins that we have.  The MLR uses maximum likelihood estimation to evaluate the probability of categorical membership."
   ]
  },
  {
   "cell_type": "code",
   "execution_count": null,
   "id": "Xx-GgD3XvYBr",
   "metadata": {
    "id": "Xx-GgD3XvYBr",
    "scrolled": true
   },
   "outputs": [],
   "source": [
    "from sklearn.linear_model import LogisticRegression\n",
    "from sklearn.model_selection import cross_val_score\n",
    "\n",
    "X_train_lR = trainCleanData[['islandLabels','Culmen Length (mm)', 'Culmen Depth (mm)']]\n",
    "y_train_lR = trainCleanData['speciesLabels']\n",
    "\n",
    "X_test_lR = testCleanData[['islandLabels','Culmen Length (mm)', 'Culmen Depth (mm)']]\n",
    "y_test_lR = testCleanData['speciesLabels']"
   ]
  },
  {
   "cell_type": "markdown",
   "id": "7ku3kLUOWT-q",
   "metadata": {
    "id": "7ku3kLUOWT-q"
   },
   "source": [
    "#### Best Complexity"
   ]
  },
  {
   "cell_type": "code",
   "execution_count": null,
   "id": "waApv8VZWWic",
   "metadata": {
    "id": "waApv8VZWWic",
    "outputId": "72b09309-8b67-4127-e754-83cb77b94ba2"
   },
   "outputs": [
    {
     "name": "stdout",
     "output_type": "stream",
     "text": [
      "Best CV: 0.973\n"
     ]
    },
    {
     "data": {
      "image/png": "[encoded data removed]",
      "text/plain": [
       "<Figure size 432x288 with 1 Axes>"
      ]
     },
     "metadata": {
      "needs_background": "light"
     },
     "output_type": "display_data"
    }
   ],
   "source": [
    "from sklearn.linear_model import LogisticRegression \n",
    "from sklearn.model_selection import cross_val_score\n",
    "from matplotlib import pyplot as plt\n",
    "\n",
    "fig, ax = plt.subplots(1)\n",
    "    # features = ['Culmen Length (mm)', 'Culmen Depth (mm)', 'Island']\n",
    "best_cv = 0\n",
    "best_complex = 0\n",
    "    \n",
    "for d in np.arange(0.72,0.73,0.0001):\n",
    "    T = LogisticRegression(multi_class = 'multinomial', C = d, solver = 'lbfgs', max_iter = 1000)\n",
    "            \n",
    "    mean_cv = cross_val_score(T, X_train_lR, y_train_lR, cv = 10).mean()\n",
    "        \n",
    "    if mean_cv > best_cv:\n",
    "        best_cv = mean_cv\n",
    "        best_complex = d\n",
    "            \n",
    "    ax.scatter(d, mean_cv, color = \"black\")\n",
    "    \n",
    "    ax.set(title = \"Best complexity: \"+ str(round(best_complex, 3)), \n",
    "           xlabel = \"Complexity\", ylabel = \"CV score\")\n",
    "    \n",
    "print('Best CV:', np.round(best_cv, 3))"
   ]
  },
  {
   "cell_type": "code",
   "execution_count": null,
   "id": "196451cb",
   "metadata": {
    "id": "196451cb",
    "outputId": "574e2112-1286-47ad-b26b-735a41dcbafd"
   },
   "outputs": [
    {
     "name": "stdout",
     "output_type": "stream",
     "text": [
      "Accuracy on training data:  0.985\n"
     ]
    }
   ],
   "source": [
    "lR = LogisticRegression(C = best_complex, max_iter = len(penguins))\n",
    "\n",
    "lR.fit(X_train_lR,y_train_lR)\n",
    "\n",
    "y_pred_lR = lR.predict(X_test_lR)\n",
    "\n",
    "print(\"Accuracy on training data: \", np.round(lR.score(X_train_lR, y_train_lR), 3))"
   ]
  },
  {
   "cell_type": "code",
   "execution_count": null,
   "id": "8ebaead5",
   "metadata": {
    "id": "8ebaead5",
    "outputId": "fa244853-8991-4457-85c0-185095a06806"
   },
   "outputs": [
    {
     "name": "stdout",
     "output_type": "stream",
     "text": [
      "Mean cross validation:  0.973\n"
     ]
    }
   ],
   "source": [
    "mean_cv_lR = np.round(cross_val_score(lR, X_train_lR, y_train_lR, cv = 5).mean(), 3)\n",
    "print(\"Mean cross validation: \", mean_cv_lR)"
   ]
  },
  {
   "cell_type": "code",
   "execution_count": null,
   "id": "cfce59cd",
   "metadata": {
    "id": "cfce59cd",
    "outputId": "8124b3ac-b295-4b30-be8b-ed18b00b99ec"
   },
   "outputs": [
    {
     "name": "stdout",
     "output_type": "stream",
     "text": [
      "Accuracy on test data: 0.95\n"
     ]
    }
   ],
   "source": [
    "print('Accuracy on test data: {:.2f}'.format(lR.score(X_test_lR, y_test_lR)))"
   ]
  },
  {
   "cell_type": "markdown",
   "id": "3fb6f7ec",
   "metadata": {
    "id": "3fb6f7ec"
   },
   "source": [
    "#### Confusion Matrix"
   ]
  },
  {
   "cell_type": "code",
   "execution_count": null,
   "id": "16b75de0",
   "metadata": {
    "id": "16b75de0",
    "outputId": "b9aa5958-25c3-46e9-ee1d-7a100c78adee",
    "scrolled": true
   },
   "outputs": [
    {
     "data": {
      "text/plain": [
       "array([[24,  1,  0],\n",
       "       [ 2, 12,  0],\n",
       "       [ 0,  0, 24]])"
      ]
     },
     "execution_count": 30,
     "metadata": {},
     "output_type": "execute_result"
    }
   ],
   "source": [
    "from sklearn.metrics import confusion_matrix\n",
    "from sklearn.metrics import plot_confusion_matrix\n",
    "\n",
    "confusion_matrix(y_test_lR, y_pred_lR)"
   ]
  },
  {
   "cell_type": "code",
   "execution_count": null,
   "id": "2QV1OzRIhEwQ",
   "metadata": {
    "id": "2QV1OzRIhEwQ",
    "scrolled": true
   },
   "outputs": [],
   "source": [
    "from sklearn.metrics import ConfusionMatrixDisplay\n",
    "ConfusionMatrixDisplay.from_predictions(y_test_lR, y_pred_lR)\n",
    "plt.show()"
   ]
  },
  {
   "cell_type": "markdown",
   "id": "q6HOTyjTPAWL",
   "metadata": {
    "id": "q6HOTyjTPAWL"
   },
   "source": [
    "The Logistical regression model has a relatively high accuracy. Recall that 0, 1, and 2 represent Adelie, Chinstrap, and Gentoo penguins respectively. The LR model was able to accurately identify 24 Adelie, 13 Chinstrap, and 24 Gentoo penguins. However, it had mistaken 1 Adelie penguin as a Chinstrap penguin and 2 Chinstrap penguins as Adelie penguins. "
   ]
  },
  {
   "cell_type": "markdown",
   "id": "vDACJy87l1AQ",
   "metadata": {
    "id": "vDACJy87l1AQ"
   },
   "source": [
    "Using the previously defined plot_regions function, we plot the decision regions for our logistic regression model. We hope to visualize how well our model performs on a large set of penguins and how the model makes decisions to classify the species."
   ]
  },
  {
   "cell_type": "code",
   "execution_count": null,
   "id": "0d8e2aa7",
   "metadata": {
    "id": "0d8e2aa7",
    "outputId": "2140ace5-bd90-465b-f8bb-4df7c983f4a6"
   },
   "outputs": [
    {
     "data": {
      "image/png": "[encoded data removed]",
      "text/plain": [
       "<Figure size 1080x360 with 3 Axes>"
      ]
     },
     "metadata": {
      "needs_background": "light"
     },
     "output_type": "display_data"
    }
   ],
   "source": [
    "#decision region\n",
    "plot_regions(lR, X_test_lR,  y_test_lR)"
   ]
  },
  {
   "cell_type": "markdown",
   "id": "27dd3439",
   "metadata": {
    "id": "27dd3439"
   },
   "source": [
    "## Explanation of the Multinomial regression model (MLR) \n",
    "The type of logistical regression model we are using is multinomial(MLR), which allows us to predict three or more different class with no natural ordering, like the three species of penguins that we have.  The MLR uses maximum likelihood estimation to evaluate the probability of categorical membership.\n",
    "\n",
    "**Finding the best complexity (best parameters) for the MLR model**\n",
    "\n",
    "We first used a for loop to find the best complexity for the MLR model. We check which one is the best complexity by checking the best cross validation score.  We found that the best complexity is 0.72. \n",
    "\n",
    "**Cross validation**\n",
    "\n",
    "While finding the best complexity, I have also calculated the cross validation scores of the model. With 0.72, the model has the cross validation score of 0.973.\n",
    "\n",
    "**Using the best parameters to train the data**\n",
    "\n",
    "Now that we have found the best parameter, we put these parameters into the model to train the data set. The accuracy on the training data set is 0.985, and the accuracy on the test data is 0.95. The model has performed decently well. \n",
    "\n",
    "**Confusion matrix and decision regions** \n",
    "From the decision regions graph we can see that this model has linear decision boundaries. This model does not perform perectly and does have some mistakes as shown from the decision regions and the confusion matrix. The model confused adelie penguins with chinstrap peguins. As we can see, on dream island, there are two Chinstrap penguins with relatively long Culmen depth but short Culmen length. This confuses the model as it is hard to differentiate between Adelie and Chinstrap when they have similar Culmen length and depth. On Torgersen Island, the model misclassfieid an Adelie penguin as a chinstrap penguin"
   ]
  },
  {
   "cell_type": "markdown",
   "id": "f2ced55a",
   "metadata": {
    "id": "f2ced55a"
   },
   "source": [
    "## Gradient Boosting Model [Model 3]"
   ]
  },
  {
   "cell_type": "markdown",
   "id": "6-Ek8XmFGPy6",
   "metadata": {
    "id": "6-Ek8XmFGPy6"
   },
   "source": [
    "Known for its prediction speed and accuracy, the Gradient boosting model sequentially builds weak prediction models and uses the errors from these models to create a stronger, more accurate predictor. This model is based on the idea that the next best model, combined with past models, can minimize the prediction error.  "
   ]
  },
  {
   "cell_type": "code",
   "execution_count": null,
   "id": "4f451b59",
   "metadata": {
    "id": "4f451b59"
   },
   "outputs": [],
   "source": [
    "# capture predictor and target variables needed for training\n",
    "X_train_GB = trainCleanData[['islandLabels', 'Culmen Length (mm)', 'Culmen Depth (mm)']]\n",
    "y_train_GB = trainCleanData['speciesLabels']\n",
    "\n",
    "# capture predictor and target variables needed for testing\n",
    "X_test_GB = testCleanData[['islandLabels', 'Culmen Length (mm)', 'Culmen Depth (mm)']]\n",
    "y_test_GB = testCleanData['speciesLabels']"
   ]
  },
  {
   "cell_type": "code",
   "execution_count": null,
   "id": "e3739fa1",
   "metadata": {
    "colab": {
     "base_uri": "https://localhost:8080/",
     "height": 295
    },
    "id": "e3739fa1",
    "outputId": "775f9c8e-f053-49c6-8702-d403b5a0623e"
   },
   "outputs": [
    {
     "data": {
      "image/png": "[encoded data removed]",
      "text/plain": [
       "<Figure size 432x288 with 1 Axes>"
      ]
     },
     "metadata": {
      "needs_background": "light"
     },
     "output_type": "display_data"
    }
   ],
   "source": [
    "from sklearn.ensemble import GradientBoostingClassifier\n",
    "from sklearn.model_selection import cross_val_score\n",
    "\n",
    "fig, ax = plt.subplots(1)\n",
    "\n",
    "best_score_gB = 0\n",
    "\n",
    "for d in range(1,30):  \n",
    "    gB = GradientBoostingClassifier(max_depth = d)\n",
    "    cv_score_gB = cross_val_score(gB, X_train_GB, y_train_GB, cv=10).mean()\n",
    "    # plot each point\n",
    "    ax.scatter(d, cv_score_gB, color = \"black\") \n",
    "    # update best scores\n",
    "    if cv_score_gB > best_score_gB:   \n",
    "        best_depth_gB = d\n",
    "        best_score_gB = cv_score_gB\n",
    "\n",
    "# set axis labels and titles        \n",
    "l = ax.set(title = \"Best Depth : \" + str(best_depth_gB),\n",
    "       xlabel = \"Depth\", \n",
    "       ylabel = \"CV Score\")"
   ]
  },
  {
   "cell_type": "code",
   "execution_count": null,
   "id": "4e8cbee6",
   "metadata": {
    "colab": {
     "base_uri": "https://localhost:8080/"
    },
    "id": "4e8cbee6",
    "outputId": "03ad0cd0-da70-467d-db6a-e477f2258940"
   },
   "outputs": [
    {
     "name": "stdout",
     "output_type": "stream",
     "text": [
      "Accuracy on training data:  1.0\n"
     ]
    }
   ],
   "source": [
    "gB = GradientBoostingClassifier(max_depth = best_depth_gB, n_estimators = 1000)\n",
    "\n",
    "# fit the model to training data\n",
    "gB.fit(X_train_GB,y_train_GB)\n",
    "\n",
    "# generate predictions\n",
    "y_pred_GB = gB.predict(X_test_GB)\n",
    "\n",
    "print(\"Accuracy on training data: \", np.round(gB.score(X_train_GB, y_train_GB), 3))"
   ]
  },
  {
   "cell_type": "markdown",
   "id": "fe591556",
   "metadata": {
    "id": "fe591556"
   },
   "source": [
    "From the 1.0 value we get of the accuracy of training data, it seems that the model may be slightly overfit. Let's look first at our cross validation and testing scores to see if they are close, or indicate that the model needs to be fixed. "
   ]
  },
  {
   "cell_type": "markdown",
   "id": "dce84ffb",
   "metadata": {
    "id": "dce84ffb"
   },
   "source": [
    "#### Cross Validation"
   ]
  },
  {
   "cell_type": "code",
   "execution_count": null,
   "id": "mCJq5bfzymgz",
   "metadata": {
    "colab": {
     "base_uri": "https://localhost:8080/"
    },
    "id": "mCJq5bfzymgz",
    "outputId": "73b0f043-02eb-4463-de5f-02c5d51560af"
   },
   "outputs": [
    {
     "name": "stdout",
     "output_type": "stream",
     "text": [
      "Cross Validation Score:  0.977\n"
     ]
    }
   ],
   "source": [
    "mean_cv_GB = np.round(cross_val_score(gB, X_train_GB, y_train_GB, cv = 5).mean(), 3)\n",
    "print(\"Cross Validation Score: \", np.round((mean_cv_GB),3))"
   ]
  },
  {
   "cell_type": "markdown",
   "id": "ae2b4d14",
   "metadata": {
    "id": "ae2b4d14"
   },
   "source": [
    "Given the cross validation score of 0.977, we are cautiously optimistic that the model may just be predicting the data of the training set really well. Let's look at the testing accuracy. "
   ]
  },
  {
   "cell_type": "code",
   "execution_count": null,
   "id": "B5P_750AvVG5",
   "metadata": {
    "colab": {
     "base_uri": "https://localhost:8080/"
    },
    "id": "B5P_750AvVG5",
    "outputId": "764c69bd-e427-4ff2-a38d-7cfb773b3b2f"
   },
   "outputs": [
    {
     "name": "stdout",
     "output_type": "stream",
     "text": [
      "Accuracy on test data:  0.968\n"
     ]
    }
   ],
   "source": [
    "print(\"Accuracy on test data: \", np.round(gB.score(X_test_GB, y_test_GB), 3))"
   ]
  },
  {
   "cell_type": "markdown",
   "id": "a0a4e3d1",
   "metadata": {
    "id": "a0a4e3d1"
   },
   "source": [
    "To our relief, the testing accuracy is also high, coming in at about 0.968. This means that while our model might be slightly overfit, it is predicting penguin species at very high levels, and is doing a good job. "
   ]
  },
  {
   "cell_type": "markdown",
   "id": "_iF4eEfZVtxy",
   "metadata": {
    "id": "_iF4eEfZVtxy"
   },
   "source": [
    "#### Confusion Matrix"
   ]
  },
  {
   "cell_type": "code",
   "execution_count": null,
   "id": "a119eb83",
   "metadata": {
    "colab": {
     "base_uri": "https://localhost:8080/"
    },
    "id": "a119eb83",
    "outputId": "f6f29711-5123-44e0-ad86-baa38f167a66"
   },
   "outputs": [
    {
     "data": {
      "text/plain": [
       "array([[24,  1,  0],\n",
       "       [ 1, 13,  0],\n",
       "       [ 0,  0, 24]])"
      ]
     },
     "execution_count": 38,
     "metadata": {},
     "output_type": "execute_result"
    }
   ],
   "source": [
    "# CONFUSION MATRIX code here\n",
    "confusion_matrix(y_test_GB, y_pred_GB)"
   ]
  },
  {
   "cell_type": "code",
   "execution_count": null,
   "id": "f9c55d60",
   "metadata": {
    "colab": {
     "base_uri": "https://localhost:8080/"
    },
    "id": "f9c55d60",
    "outputId": "4f7bb8f7-de94-4948-e52c-9d718e0395a4"
   },
   "outputs": [
    {
     "data": {
      "image/png": "[encoded data removed]",
      "text/plain": [
       "<Figure size 432x288 with 2 Axes>"
      ]
     },
     "metadata": {
      "needs_background": "light"
     },
     "output_type": "display_data"
    }
   ],
   "source": [
    "ConfusionMatrixDisplay.from_predictions(y_test_GB, y_pred_GB)\n",
    "plt.show()"
   ]
  },
  {
   "cell_type": "markdown",
   "id": "CedqsTGGcxGb",
   "metadata": {
    "id": "CedqsTGGcxGb"
   },
   "source": [
    "The Gradient Boosting Model does a pretty good job of predicting penguin species, making only two mistakes overall. It first incorrectly classifies a Adelie penguin as a Chinstrap penguin. Then, it incorrectly classifies a Chinstrap penguin as an Adelie penguin. "
   ]
  },
  {
   "cell_type": "markdown",
   "id": "28c454c8",
   "metadata": {
    "id": "28c454c8"
   },
   "source": [
    "#### Decision Regions"
   ]
  },
  {
   "cell_type": "code",
   "execution_count": null,
   "id": "ee11623b",
   "metadata": {
    "colab": {
     "base_uri": "https://localhost:8080/",
     "height": 851
    },
    "id": "ee11623b",
    "outputId": "769e198b-8fb9-42bf-a3ac-3e67591b5a8b"
   },
   "outputs": [
    {
     "data": {
      "image/png": "[encoded data removed]",
      "text/plain": [
       "<Figure size 1080x360 with 3 Axes>"
      ]
     },
     "metadata": {
      "needs_background": "light"
     },
     "output_type": "display_data"
    }
   ],
   "source": [
    "# DECISION REGIONS code here\n",
    "plot_regions(gB, X_test_GB, y_test_GB)"
   ]
  },
  {
   "cell_type": "markdown",
   "id": "ed5fac66",
   "metadata": {
    "id": "ed5fac66"
   },
   "source": [
    "As shown through the testing, cross validation, confusion matrices, and decision regions, the Gradient Boosting Model does quite well, only making two mistakes. This speaks to how strong Culmen Length, Culmen Depth, and Island are as features that provide easy distinction between the species. \n",
    "\n",
    "One way this model may have performed better is from a larger training set. The Gradient Boosting model, as stated above, uses errors from past trials to build a stronger model. With more data to gain insight from, the model may have performed better. "
   ]
  },
  {
   "cell_type": "markdown",
   "id": "a477dbf6",
   "metadata": {
    "id": "a477dbf6"
   },
   "source": [
    "# Final Model"
   ]
  },
  {
   "cell_type": "markdown",
   "id": "12be4590",
   "metadata": {
    "id": "12be4590"
   },
   "source": [
    "The overall performance of each of the three models above is very similar. They all perform very well, only making a few mistakes each. They have similar testing accuracy, training accuracy, and decision region plots. \n",
    "\n",
    "We stand by the features that we chose (Culmen Length (mm), Culmen Depth (mm), and Island) as these proved to be very strong features in terms of making predictions across each model. \n",
    "\n",
    "An interesting thing to point out is that the Random Forest Model and the Gradient Boosting Model both fell victim to slight overfitting on the training data, yet had very high cross validation and testing scores. This is likely because the Random Forest Model and the Gradient Boosting Model follow much of the same logic when evaluating data and making predictions. While the Gradient Boosting Model made fewer mistakes than the Random Forest Model, one drawback is that it takes significantly longer to run. \n",
    "\n",
    "Our models definitely would have improved if there was more data to train the models with. Since the Random Forest Model and the Gradient Boosting Model both rely on training data to fine tune their predictions and learn from errors, potentially the 2 penguins that were misclassified in the Gradient Boosting Model, and the 3 penguins from the Random Forest Model could have been avoided. It seems that the model struggles with classifying species that reside with Adelie penguins, as Adelie penguins can be found on any island and seem to dominate. If we had more, or different data points of the penguins that reside on the other islands with the Adelie penguins, possibly we would be able to avoid misclassification. \n",
    "\n",
    "One weakness is that our features were chosen from correlations on a heat map. Perhaps if we had written a function that grouped three features together and tested different combinations, we would have found features that are more predictive than the three that we chose. However, it would only be a slight difference, given how accurate our three models are. \n",
    "\n",
    "After evaluating each model, we choose to go with the Gradient Boosting model because it yields the highest accuracy score of 0.968."
   ]
  },
  {
   "cell_type": "code",
   "execution_count": null,
   "id": "7380e138-eb16-4cd5-8ca1-256419d6d802",
   "metadata": {
    "id": "7380e138-eb16-4cd5-8ca1-256419d6d802"
   },
   "outputs": [],
   "source": []
  }
 ],
 "metadata": {
  "colab": {
   "collapsed_sections": [],
   "name": "PIC_16A_Project_Final.ipynb",
   "provenance": []
  },
  "kernelspec": {
   "display_name": "Python 3 (ipykernel)",
   "language": "python",
   "name": "python3"
  },
  "language_info": {
   "codemirror_mode": {
    "name": "ipython",
    "version": 3
   },
   "file_extension": ".py",
   "mimetype": "text/x-python",
   "name": "python",
   "nbconvert_exporter": "python",
   "pygments_lexer": "ipython3",
   "version": "3.9.12"
  }
 },
 "nbformat": 4,
 "nbformat_minor": 5
}
